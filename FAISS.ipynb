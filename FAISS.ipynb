{
 "cells": [
  {
   "cell_type": "code",
   "execution_count": null,
   "id": "25b22087-0930-49b2-89c3-915d6f010698",
   "metadata": {},
   "outputs": [],
   "source": [
    "#Install Packages\n",
    "!pip install faiss-cpu\n",
    "!pip install sentence-transformers"
   ]
  },
  {
   "cell_type": "code",
   "execution_count": null,
   "id": "4faa040c-f22a-4c24-88be-a6f2363379f3",
   "metadata": {},
   "outputs": [],
   "source": [
    "import pandas as pd\n",
    "\n",
    "pd.set_option('display.max_colwidth', 100)"
   ]
  },
  {
   "cell_type": "code",
   "execution_count": null,
   "id": "e39ac1a0-6fdf-4d28-98ef-ef2786005688",
   "metadata": {},
   "outputs": [],
   "source": [
    "df = pd.read_csv(\"sample_text.csv\")\n",
    "df.shape"
   ]
  },
  {
   "cell_type": "code",
   "execution_count": null,
   "id": "21cd92b5-111c-417f-a09e-c90cd7868426",
   "metadata": {},
   "outputs": [],
   "source": [
    "df"
   ]
  },
  {
   "cell_type": "code",
   "execution_count": null,
   "id": "dc423004-0e91-4a69-99c1-b37ce5bf717b",
   "metadata": {},
   "outputs": [],
   "source": [
    "from sentence_transformers import SentenceTransdormer\n",
    "\n",
    "encoder = SentenceTransformer(\"all-mpnet-base-v2\")\n",
    "vectors = encoder.encode(df.text)\n",
    "vectors.shape"
   ]
  },
  {
   "cell_type": "code",
   "execution_count": null,
   "id": "6e0697a2-001b-4096-8a44-8bf775654154",
   "metadata": {},
   "outputs": [],
   "source": [
    "vectors"
   ]
  },
  {
   "cell_type": "code",
   "execution_count": null,
   "id": "98584bd1-5285-41d3-a6cb-9a62f7a56520",
   "metadata": {},
   "outputs": [],
   "source": [
    "dim = vectors.shape[1]\n",
    "dim"
   ]
  },
  {
   "cell_type": "code",
   "execution_count": null,
   "id": "b42d7ffb-66f0-4676-8dee-703dc6bdc4f2",
   "metadata": {},
   "outputs": [],
   "source": [
    "import faiss\n",
    "\n",
    "index = faiss.IndexFlatL2(dim)\n",
    "index"
   ]
  },
  {
   "cell_type": "code",
   "execution_count": null,
   "id": "b0d81931-9b51-4993-a4cf-bbba0e16b38f",
   "metadata": {},
   "outputs": [],
   "source": [
    "index.add(vectors)"
   ]
  },
  {
   "cell_type": "code",
   "execution_count": null,
   "id": "4eeb3e81-6009-4bc1-9ca3-0f6e9680fc8f",
   "metadata": {},
   "outputs": [],
   "source": [
    "search_query=\"Iwant to buy a polo t-shirt\"\n",
    "\n",
    "vec = encoder.encode(search_query)\n",
    "vec.shape"
   ]
  },
  {
   "cell_type": "code",
   "execution_count": null,
   "id": "0e9c0e2d-aca6-4cfc-931e-b327fefd3111",
   "metadata": {},
   "outputs": [],
   "source": [
    "[vec]"
   ]
  },
  {
   "cell_type": "code",
   "execution_count": null,
   "id": "9a84bd83-dcd4-438a-bb29-46b2aba5aecd",
   "metadata": {},
   "outputs": [],
   "source": [
    "vec"
   ]
  },
  {
   "cell_type": "code",
   "execution_count": null,
   "id": "3ce0c75b-1dd0-4273-a6b7-4a2c41d1c2c2",
   "metadata": {},
   "outputs": [],
   "source": [
    "import numpy as np \n",
    "svec = np.array(vec).reshape(1,-1)\n",
    "svec.shape"
   ]
  },
  {
   "cell_type": "code",
   "execution_count": null,
   "id": "c06f4d9a-4283-4ed0-a8d0-57bf9bd78182",
   "metadata": {},
   "outputs": [],
   "source": [
    "svec"
   ]
  },
  {
   "cell_type": "code",
   "execution_count": null,
   "id": "3775f204-76db-41c2-a604-14a65a39c941",
   "metadata": {},
   "outputs": [],
   "source": [
    "index.search(svec)"
   ]
  },
  {
   "cell_type": "code",
   "execution_count": null,
   "id": "deff4cfc-6374-491a-a072-373f5797eea1",
   "metadata": {},
   "outputs": [],
   "source": [
    "distances, I = index.search(svec, k=2) "
   ]
  },
  {
   "cell_type": "code",
   "execution_count": null,
   "id": "a94b0fb7-18a5-4a41-8a21-9c0aa5d892b8",
   "metadata": {},
   "outputs": [],
   "source": [
    "I"
   ]
  },
  {
   "cell_type": "code",
   "execution_count": null,
   "id": "82dd1efb-a17e-4a36-b85a-007e8cef19a2",
   "metadata": {},
   "outputs": [],
   "source": [
    "df.loc[I[0]]"
   ]
  },
  {
   "cell_type": "code",
   "execution_count": null,
   "id": "f4920bc9-e2ad-4c5f-a720-30c3fa03aeb4",
   "metadata": {},
   "outputs": [],
   "source": [
    "search_query"
   ]
  },
  {
   "cell_type": "code",
   "execution_count": null,
   "id": "7c148123-1634-4cc5-ace6-9e54b929d539",
   "metadata": {},
   "outputs": [],
   "source": [
    "df"
   ]
  },
  {
   "cell_type": "code",
   "execution_count": null,
   "id": "fd946a3a-cd97-4c7d-80d3-6bc685bdd477",
   "metadata": {},
   "outputs": [],
   "source": []
  },
  {
   "cell_type": "code",
   "execution_count": null,
   "id": "65dcc3b5-f301-4287-b69c-267338c75b1e",
   "metadata": {},
   "outputs": [],
   "source": []
  }
 ],
 "metadata": {
  "kernelspec": {
   "display_name": "Python [conda env:base] *",
   "language": "python",
   "name": "conda-base-py"
  },
  "language_info": {
   "codemirror_mode": {
    "name": "ipython",
    "version": 3
   },
   "file_extension": ".py",
   "mimetype": "text/x-python",
   "name": "python",
   "nbconvert_exporter": "python",
   "pygments_lexer": "ipython3",
   "version": "3.12.7"
  }
 },
 "nbformat": 4,
 "nbformat_minor": 5
}
