{
 "cells": [
  {
   "cell_type": "code",
   "execution_count": null,
   "id": "cc8d0a13-e415-48f6-9ace-619966a0efb8",
   "metadata": {},
   "outputs": [],
   "source": [
    " #random Text split\n",
    "text = \"\"\" \"\"\""
   ]
  },
  {
   "cell_type": "code",
   "execution_count": null,
   "id": "00341a92-4045-44b8-b259-32d643035b27",
   "metadata": {},
   "outputs": [],
   "source": [
    "#In RecursiveCharacterTextSplitter we can only provide single separator"
   ]
  },
  {
   "cell_type": "code",
   "execution_count": null,
   "id": "d2c0a66f-cd8b-442c-b494-d66a64cceaf2",
   "metadata": {},
   "outputs": [],
   "source": [
    "from langchain.text_splitter import CharacterTextSplitter\n",
    "\n",
    "CharacterTextSplitter(\n",
    "    separator=\"\\n\", \n",
    "    chunk_size=200, \n",
    "    chunk_overlap=0\n",
    ")\n",
    "#\"\\n\" is used for considering end of a line\n",
    "#\".\" can be considered for end of every line\n",
    "#\" \" space can be considered\n",
    "#\"?\" for considering questions\n",
    "chunks = splitter.split_text(text)\n",
    "len(chunks)"
   ]
  },
  {
   "cell_type": "code",
   "execution_count": null,
   "id": "6efdcba0-f6a8-4cbb-a320-9bc2353f0e81",
   "metadata": {},
   "outputs": [],
   "source": [
    "chunks"
   ]
  },
  {
   "cell_type": "code",
   "execution_count": null,
   "id": "0a072abf-8241-4bc2-a839-e5c401d0771c",
   "metadata": {},
   "outputs": [],
   "source": [
    "for chunk in chunks:\n",
    "    print(len(chunk))"
   ]
  },
  {
   "cell_type": "code",
   "execution_count": null,
   "id": "34693ce3-4719-4593-b9f8-00b7f200070c",
   "metadata": {},
   "outputs": [],
   "source": [
    "#In RecursiveCharacterTextSplitter we can provide multiple separators\n",
    "#the text will be splitted according to the first separator. \n",
    "#If the splitted chunk is more than the chunk_size, the chunk will be divided more with the second separator.\n",
    "#then if there is irregularity again,it will be divided more using the third separator."
   ]
  },
  {
   "cell_type": "code",
   "execution_count": null,
   "id": "7a4fcaf5-38e9-4c86-9897-5158e19590c2",
   "metadata": {},
   "outputs": [],
   "source": [
    "from langchain.text_splitter import RecursiveCharacterTextSplitter\n",
    "\n",
    "r_splitter = RecursiveCharacterTextSplitter(\n",
    "    separator=[\"\\n\\n\", \"\\n\", \" \"], \n",
    "    chunk_size=200, \n",
    "    chunk_overlap=0\n",
    ")\n",
    "chunks = r_splitter.split_text(text)\n",
    "len(chunks)"
   ]
  },
  {
   "cell_type": "code",
   "execution_count": null,
   "id": "e4f2088a-95a4-4621-93a4-6ea1c0f6aab3",
   "metadata": {},
   "outputs": [],
   "source": [
    "for chunk in chunks:\n",
    "    print(len(chunk))"
   ]
  },
  {
   "cell_type": "code",
   "execution_count": null,
   "id": "02c2acf9-173f-4de0-895f-7d2f95623a17",
   "metadata": {},
   "outputs": [],
   "source": []
  },
  {
   "cell_type": "code",
   "execution_count": null,
   "id": "a111425d-7fbe-4222-bc24-e575e77879a0",
   "metadata": {},
   "outputs": [],
   "source": []
  },
  {
   "cell_type": "code",
   "execution_count": null,
   "id": "77a613ba-9717-49a4-b797-be2effc52bf9",
   "metadata": {},
   "outputs": [],
   "source": []
  }
 ],
 "metadata": {
  "kernelspec": {
   "display_name": "Python [conda env:base] *",
   "language": "python",
   "name": "conda-base-py"
  },
  "language_info": {
   "codemirror_mode": {
    "name": "ipython",
    "version": 3
   },
   "file_extension": ".py",
   "mimetype": "text/x-python",
   "name": "python",
   "nbconvert_exporter": "python",
   "pygments_lexer": "ipython3",
   "version": "3.12.7"
  }
 },
 "nbformat": 4,
 "nbformat_minor": 5
}
