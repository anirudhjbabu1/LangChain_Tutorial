{
 "cells": [
  {
   "cell_type": "code",
   "execution_count": null,
   "id": "10cb8ff7-cc67-454c-8e22-b47454fa861a",
   "metadata": {},
   "outputs": [],
   "source": [
    "#TEXT LOADER"
   ]
  },
  {
   "cell_type": "code",
   "execution_count": 1,
   "id": "86152bd8-9563-4fc6-a0e9-a27d951e17e3",
   "metadata": {},
   "outputs": [],
   "source": [
    "from langchain.document_loaders import TextLoader"
   ]
  },
  {
   "cell_type": "code",
   "execution_count": null,
   "id": "ee04ce9c-c142-432a-9626-2a4dbc3c37da",
   "metadata": {},
   "outputs": [],
   "source": [
    "loader = TextLoader(\"name.txt\")\n",
    "data = loader.load()\n",
    "data"
   ]
  },
  {
   "cell_type": "code",
   "execution_count": null,
   "id": "beba27c2-36a8-4c31-baa1-a66fd4ae29b8",
   "metadata": {},
   "outputs": [],
   "source": [
    "loader = TextLoader(\"name.txt\")\n",
    "data = loader.load()\n",
    "data[0]"
   ]
  },
  {
   "cell_type": "code",
   "execution_count": null,
   "id": "f464de5b-d042-4d00-9286-89fd76c3105e",
   "metadata": {},
   "outputs": [],
   "source": [
    "data[0].page_content"
   ]
  },
  {
   "cell_type": "code",
   "execution_count": null,
   "id": "71d1b422-935a-40b5-9337-8807f6a40b5a",
   "metadata": {},
   "outputs": [],
   "source": [
    "data[0].metadata"
   ]
  },
  {
   "cell_type": "code",
   "execution_count": null,
   "id": "dcfa9e9b-c51a-448b-bbb6-dfb9ab8a5544",
   "metadata": {},
   "outputs": [],
   "source": [
    "#CSV LOADER"
   ]
  },
  {
   "cell_type": "code",
   "execution_count": null,
   "id": "0eea52d3-29b8-4cd1-97d3-9cbc43fce3ff",
   "metadata": {},
   "outputs": [],
   "source": [
    "from langchain.document_loaders.csv_loader import CSVLoader\n",
    "loader = CSVLoader(\"name.csv\")\n",
    "data = loader.load()\n",
    "len(data)"
   ]
  },
  {
   "cell_type": "code",
   "execution_count": null,
   "id": "5dde104e-10aa-4874-ab2b-63be7dc1e82d",
   "metadata": {},
   "outputs": [],
   "source": [
    "data[0]"
   ]
  },
  {
   "cell_type": "code",
   "execution_count": null,
   "id": "707fbebe-c77c-4b59-92bf-ee228b842465",
   "metadata": {},
   "outputs": [],
   "source": [
    "data[0].page_content"
   ]
  },
  {
   "cell_type": "code",
   "execution_count": null,
   "id": "fc8df719-0535-43e1-bbdc-122a0f3d4cb6",
   "metadata": {},
   "outputs": [],
   "source": [
    "data[0].metadata"
   ]
  },
  {
   "cell_type": "code",
   "execution_count": null,
   "id": "5c6f5764-5424-4287-a9f5-0a2ccaba56c3",
   "metadata": {},
   "outputs": [],
   "source": [
    "from langchain.document_loaders.csv_loader import CSVLoader\n",
    "loader = CSVLoader(\"name.csv\", source_column=\"name of the column to be considered)\n",
    "data = loader.load()\n",
    "len(data)"
   ]
  },
  {
   "cell_type": "code",
   "execution_count": null,
   "id": "a503cfd0-c790-4729-abf4-48c8f3b11976",
   "metadata": {},
   "outputs": [],
   "source": [
    "data[0].metadata"
   ]
  },
  {
   "cell_type": "code",
   "execution_count": null,
   "id": "45b31ae2-a41c-4420-b3a2-70c747dc29c6",
   "metadata": {},
   "outputs": [],
   "source": [
    "data[1].metadata"
   ]
  },
  {
   "cell_type": "code",
   "execution_count": null,
   "id": "936ca35e-1fe6-410e-93d6-3b85a43e2979",
   "metadata": {},
   "outputs": [],
   "source": [
    "#UNSTRUCTURED URL LOADER"
   ]
  },
  {
   "cell_type": "code",
   "execution_count": null,
   "id": "67ce086f-d160-4334-a891-68f8739e32ab",
   "metadata": {},
   "outputs": [],
   "source": [
    "!pip3 install unstructured libmagic python-magic python-magic-bin"
   ]
  },
  {
   "cell_type": "code",
   "execution_count": null,
   "id": "809905c7-d6f8-429f-b5a0-4833097526bc",
   "metadata": {},
   "outputs": [],
   "source": [
    "from langchain.document_loaders.loaders import UnstructuredURLLoader"
   ]
  },
  {
   "cell_type": "code",
   "execution_count": null,
   "id": "8ce5440c-d51f-4347-8e78-f820438273d1",
   "metadata": {},
   "outputs": [],
   "source": [
    "loader = UnstructuredURLLoader(url=[\"url1\",\"url2\"])"
   ]
  },
  {
   "cell_type": "code",
   "execution_count": null,
   "id": "def8159e-0fc2-4e70-900e-fc8c3a96cc4d",
   "metadata": {},
   "outputs": [],
   "source": [
    "data =loader.load\n",
    "len(data)"
   ]
  },
  {
   "cell_type": "code",
   "execution_count": null,
   "id": "fc9d8ac5-267d-4c85-8f15-4f8dccca9d85",
   "metadata": {},
   "outputs": [],
   "source": [
    "data[0].metadata"
   ]
  },
  {
   "cell_type": "code",
   "execution_count": null,
   "id": "abcbb63a-11d2-41bc-9a76-561dab8e8dc8",
   "metadata": {},
   "outputs": [],
   "source": []
  }
 ],
 "metadata": {
  "kernelspec": {
   "display_name": "Python [conda env:base] *",
   "language": "python",
   "name": "conda-base-py"
  },
  "language_info": {
   "codemirror_mode": {
    "name": "ipython",
    "version": 3
   },
   "file_extension": ".py",
   "mimetype": "text/x-python",
   "name": "python",
   "nbconvert_exporter": "python",
   "pygments_lexer": "ipython3",
   "version": "3.12.7"
  }
 },
 "nbformat": 4,
 "nbformat_minor": 5
}
